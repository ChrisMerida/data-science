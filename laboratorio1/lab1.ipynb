{
 "cells": [
  {
   "cell_type": "markdown",
   "id": "77b8e550-5ef1-49bf-9dfd-dab24c466863",
   "metadata": {},
   "source": [
    "# ¿Qué es Git?"
   ]
  },
  {
   "cell_type": "markdown",
   "id": "2d26abde-7f42-4080-839c-b819d61def40",
   "metadata": {},
   "source": [
    "Git es un software para el control de versiones de código abierto que se utiliza para la gestión y seguimiento de las revisiones de archivos. "
   ]
  },
  {
   "cell_type": "markdown",
   "id": "6fd0e71a-f429-4ba9-87db-1da491690d05",
   "metadata": {},
   "source": [
    "# ¿Qué es GitHub?"
   ]
  },
  {
   "cell_type": "markdown",
   "id": "b3d84de2-2e1a-40aa-bb61-972e17441d7a",
   "metadata": {},
   "source": [
    "GitHub es una plataforma para el desarrollo de software en línea, el cual permite almacenar, rastrear y colaborar en proyectos de desarrollo. "
   ]
  },
  {
   "cell_type": "markdown",
   "id": "c40e541a-50ca-4cc0-9990-188cd1213359",
   "metadata": {},
   "source": [
    "# ¿Qué es MagicCells? "
   ]
  },
  {
   "cell_type": "markdown",
   "id": "689ee1ca-8e65-4755-b2f5-48aced7d5062",
   "metadata": {},
   "source": [
    "Son comandos útiles integrados en el kernel de IPython que facilitan la realización de tareas particulares."
   ]
  }
 ],
 "metadata": {
  "kernelspec": {
   "display_name": "Python 3 (ipykernel)",
   "language": "python",
   "name": "python3"
  },
  "language_info": {
   "codemirror_mode": {
    "name": "ipython",
    "version": 3
   },
   "file_extension": ".py",
   "mimetype": "text/x-python",
   "name": "python",
   "nbconvert_exporter": "python",
   "pygments_lexer": "ipython3",
   "version": "3.10.9"
  }
 },
 "nbformat": 4,
 "nbformat_minor": 5
}
